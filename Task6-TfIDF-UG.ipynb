{
 "cells": [
  {
   "cell_type": "code",
   "execution_count": 9,
   "metadata": {
    "collapsed": true
   },
   "outputs": [],
   "source": [
    "import numpy as np\n",
    "import pandas as pd\n",
    "from sklearn.feature_extraction.text import TfidfVectorizer\n",
    "from sklearn.model_selection import train_test_split\n",
    "from sklearn.naive_bayes import MultinomialNB\n",
    "from sklearn import metrics\n",
    "from sklearn.neural_network import MLPClassifier\n",
    "from sklearn import svm\n",
    "from sklearn.tree import DecisionTreeClassifier\n",
    "from sklearn.feature_extraction import DictVectorizer\n",
    "from sklearn.preprocessing import OneHotEncoder\n",
    "import spacy"
   ]
  },
  {
   "cell_type": "code",
   "execution_count": 10,
   "metadata": {
    "collapsed": true
   },
   "outputs": [],
   "source": [
    "spacy.load('en')\n",
    "lemmatizer = spacy.lang.en.English()\n",
    "def my_tokenizer(doc):\n",
    "    tokens = lemmatizer(doc)\n",
    "    return([token.lemma_ for token in tokens])"
   ]
  },
  {
   "cell_type": "code",
   "execution_count": 11,
   "metadata": {
    "collapsed": true
   },
   "outputs": [],
   "source": [
    "path2files=\"/Users/ashishkumar/cs598dmcs/dataset/Hygiene/\"\n",
    "datFile = path2files+\"hygiene.dat\"\n",
    "labelFile = path2files+\"hygiene.dat.labels\"\n",
    "addDataFile = path2files + \"hygiene.dat.additional\"\n",
    "\n",
    "df1 = pd.read_csv(addDataFile,header=None)\n",
    "df1.columns = ['cuisine','zipCode','reviewCount','avgRating']\n",
    "df2 = pd.read_csv(datFile, sep='\\n',header=None)\n",
    "#only first 546 restaurants are labeled\n",
    "dataLabels = pd.read_csv(labelFile, sep='\\n',header=None)\n",
    "labeledData = 546\n",
    "lbl = dataLabels[0:labeledData][0]"
   ]
  },
  {
   "cell_type": "code",
   "execution_count": 12,
   "metadata": {},
   "outputs": [
    {
     "name": "stderr",
     "output_type": "stream",
     "text": [
      "/Users/ashishkumar/anaconda3/envs/idp/lib/python3.6/site-packages/ipykernel_launcher.py:3: SettingWithCopyWarning: \n",
      "A value is trying to be set on a copy of a slice from a DataFrame.\n",
      "Try using .loc[row_indexer,col_indexer] = value instead\n",
      "\n",
      "See the caveats in the documentation: http://pandas.pydata.org/pandas-docs/stable/indexing.html#indexing-view-versus-copy\n",
      "  This is separate from the ipykernel package so we can avoid doing imports until\n",
      "/Users/ashishkumar/anaconda3/envs/idp/lib/python3.6/site-packages/ipykernel_launcher.py:4: SettingWithCopyWarning: \n",
      "A value is trying to be set on a copy of a slice from a DataFrame.\n",
      "Try using .loc[row_indexer,col_indexer] = value instead\n",
      "\n",
      "See the caveats in the documentation: http://pandas.pydata.org/pandas-docs/stable/indexing.html#indexing-view-versus-copy\n",
      "  after removing the cwd from sys.path.\n"
     ]
    }
   ],
   "source": [
    "#df2.iloc[7][0]\n",
    "trainigdf = df1[0:labeledData]\n",
    "trainigdf['reviewText'] = df2[0:labeledData]\n",
    "trainigdf['lbl'] = lbl\n"
   ]
  },
  {
   "cell_type": "code",
   "execution_count": 13,
   "metadata": {
    "collapsed": true
   },
   "outputs": [],
   "source": [
    "train,test = train_test_split(trainigdf, test_size=0.12, random_state=42)"
   ]
  },
  {
   "cell_type": "code",
   "execution_count": 14,
   "metadata": {},
   "outputs": [
    {
     "name": "stdout",
     "output_type": "stream",
     "text": [
      "Extracting tf-idf features....\n",
      "convert train sparse matrix\n",
      "convert test sparse matrix\n",
      "Done\n"
     ]
    }
   ],
   "source": [
    "n_features = 2500\n",
    "print(\"Extracting tf-idf features....\")\n",
    "tfidf_vectorizer = TfidfVectorizer(max_df=0.98, min_df=2,\n",
    "                                   ngram_range=(1, 1),\n",
    "                                   max_features=n_features,\n",
    "                                   stop_words='english',\n",
    "                                   sublinear_tf=False,\n",
    "                                   tokenizer=my_tokenizer)\n",
    "X_train_tfidf = tfidf_vectorizer.fit_transform(train['reviewText'])\n",
    "X_test_tfidf = tfidf_vectorizer.fit_transform(test['reviewText'])\n",
    "print(\"convert train sparse matrix\")\n",
    "sdfTrain = pd.SparseDataFrame(X_train_tfidf)\n",
    "sdfTrain.fillna(0,inplace=True)\n",
    "\n",
    "print(\"convert test sparse matrix\")\n",
    "sdfTest = pd.SparseDataFrame(X_test_tfidf)\n",
    "sdfTest.fillna(0,inplace=True)\n",
    "print(\"Done\")"
   ]
  },
  {
   "cell_type": "code",
   "execution_count": 15,
   "metadata": {},
   "outputs": [
    {
     "data": {
      "text/plain": [
       "(2500, 2500)"
      ]
     },
     "execution_count": 15,
     "metadata": {},
     "output_type": "execute_result"
    }
   ],
   "source": [
    "len(sdfTrain.iloc[0]),len(sdfTest.iloc[0])"
   ]
  },
  {
   "cell_type": "code",
   "execution_count": 16,
   "metadata": {},
   "outputs": [
    {
     "name": "stdout",
     "output_type": "stream",
     "text": [
      "0.410714285714\n"
     ]
    },
    {
     "data": {
      "text/plain": [
       "array([[19,  9],\n",
       "       [29,  9]])"
      ]
     },
     "execution_count": 16,
     "metadata": {},
     "output_type": "execute_result"
    }
   ],
   "source": [
    "clf = MultinomialNB(alpha=.022)\n",
    "#clf2 = MLPClassifier(activation='relu',solver='sgd', alpha=1e-4, hidden_layer_sizes=(25,5), random_state=1)\n",
    "clf.fit(X_train_tfidf,train['lbl'])\n",
    "pred = clf.predict(X_test_tfidf)\n",
    "\n",
    "print(metrics.f1_score(test['lbl'], pred, average='macro'))\n",
    "metrics.confusion_matrix(test['lbl'], pred)"
   ]
  },
  {
   "cell_type": "code",
   "execution_count": 17,
   "metadata": {},
   "outputs": [
    {
     "name": "stdout",
     "output_type": "stream",
     "text": [
      "0.480555555556\n"
     ]
    },
    {
     "data": {
      "text/plain": [
       "array([[19,  9],\n",
       "       [25, 13]])"
      ]
     },
     "execution_count": 17,
     "metadata": {},
     "output_type": "execute_result"
    }
   ],
   "source": [
    "clf2 = MLPClassifier(activation='logistic',solver='adam', alpha=3*1e-4, hidden_layer_sizes=(25,15), random_state=1,max_iter=5000)\n",
    "clf2.fit(X_train_tfidf,train['lbl'])\n",
    "pred = clf2.predict(X_test_tfidf)\n",
    "print(metrics.f1_score(test['lbl'], pred, average='macro'))\n",
    "metrics.confusion_matrix(test['lbl'], pred)\n"
   ]
  },
  {
   "cell_type": "code",
   "execution_count": null,
   "metadata": {
    "collapsed": true
   },
   "outputs": [],
   "source": []
  },
  {
   "cell_type": "code",
   "execution_count": 18,
   "metadata": {},
   "outputs": [
    {
     "name": "stdout",
     "output_type": "stream",
     "text": [
      "0.482949308756\n",
      "[[14 14]\n",
      " [20 18]]\n"
     ]
    }
   ],
   "source": [
    "clf3=DecisionTreeClassifier(random_state=19)\n",
    "clf3.fit(X_train_tfidf,train['lbl'])\n",
    "pred = clf3.predict(X_test_tfidf)\n",
    "print(metrics.f1_score(test['lbl'], pred, average='macro'))\n",
    "print(metrics.confusion_matrix(test['lbl'], pred))"
   ]
  },
  {
   "cell_type": "code",
   "execution_count": 19,
   "metadata": {},
   "outputs": [
    {
     "data": {
      "text/plain": [
       "\"['Vietnamese', 'Sandwiches', 'Restaurants']\""
      ]
     },
     "execution_count": 19,
     "metadata": {},
     "output_type": "execute_result"
    }
   ],
   "source": [
    "trainigdf['cuisine']\n",
    "enc = OneHotEncoder()\n",
    "trainigdf.iloc[0]['cuisine']"
   ]
  },
  {
   "cell_type": "code",
   "execution_count": 20,
   "metadata": {},
   "outputs": [
    {
     "data": {
      "text/plain": [
       "176"
      ]
     },
     "execution_count": 20,
     "metadata": {},
     "output_type": "execute_result"
    }
   ],
   "source": [
    "updateddf = pd.get_dummies(data=trainigdf, columns = ['cuisine','zipCode'] )\n",
    "len(updateddf.iloc[0])"
   ]
  },
  {
   "cell_type": "code",
   "execution_count": 28,
   "metadata": {},
   "outputs": [
    {
     "name": "stdout",
     "output_type": "stream",
     "text": [
      "Extracting tf-idf features....\n",
      "Done\n"
     ]
    }
   ],
   "source": [
    "n_features = 5000\n",
    "print(\"Extracting tf-idf features....\")\n",
    "tfidf_vectorizer = TfidfVectorizer(max_df=0.98, min_df=2,\n",
    "                                   ngram_range=(1, 1),\n",
    "                                   max_features=n_features,\n",
    "                                   stop_words='english',\n",
    "                                   sublinear_tf=False,\n",
    "                                   tokenizer=my_tokenizer)\n",
    "review_tfidf = tfidf_vectorizer.fit_transform(updateddf['reviewText'])\n",
    "sparsedf = pd.SparseDataFrame(review_tfidf)\n",
    "sparsedf.fillna(0,inplace=True)\n",
    "print(\"Done\")"
   ]
  },
  {
   "cell_type": "code",
   "execution_count": 29,
   "metadata": {
    "collapsed": true
   },
   "outputs": [],
   "source": [
    "result=pd.concat([updateddf,sparsedf], axis=1)\n",
    "result = result.drop(['reviewText'], axis=1)\n"
   ]
  },
  {
   "cell_type": "code",
   "execution_count": 30,
   "metadata": {
    "collapsed": true
   },
   "outputs": [],
   "source": [
    "train,test = train_test_split(result, test_size=0.12, random_state=42)\n"
   ]
  },
  {
   "cell_type": "code",
   "execution_count": 31,
   "metadata": {
    "collapsed": true
   },
   "outputs": [],
   "source": [
    "train_y = np.array(train['lbl'])\n",
    "test_y = np.array(test['lbl'])"
   ]
  },
  {
   "cell_type": "code",
   "execution_count": 32,
   "metadata": {},
   "outputs": [
    {
     "name": "stdout",
     "output_type": "stream",
     "text": [
      "0.696691176471\n"
     ]
    },
    {
     "data": {
      "text/plain": [
       "array([[24,  4],\n",
       "       [16, 22]])"
      ]
     },
     "execution_count": 32,
     "metadata": {},
     "output_type": "execute_result"
    }
   ],
   "source": [
    "\n",
    "clf4 = MultinomialNB(alpha=.022)\n",
    "#clf2 = MLPClassifier(activation='relu',solver='sgd', alpha=1e-4, hidden_layer_sizes=(25,5), random_state=1)\n",
    "clf4.fit(train.drop(['lbl'], axis=1),train_y)\n",
    "pred = clf4.predict(test.drop(['lbl'], axis=1))\n",
    "\n",
    "print(metrics.f1_score(test_y, pred, average='macro'))\n",
    "metrics.confusion_matrix(test_y, pred)"
   ]
  },
  {
   "cell_type": "code",
   "execution_count": 33,
   "metadata": {},
   "outputs": [
    {
     "name": "stdout",
     "output_type": "stream",
     "text": [
      "0.681745120551\n"
     ]
    },
    {
     "data": {
      "text/plain": [
       "array([[22,  6],\n",
       "       [15, 23]])"
      ]
     },
     "execution_count": 33,
     "metadata": {},
     "output_type": "execute_result"
    }
   ],
   "source": [
    "clf5 = MLPClassifier(activation='logistic',solver='adam', alpha=3*1e-4, hidden_layer_sizes=(25,15), random_state=1,max_iter=5000)\n",
    "clf5.fit(train.drop(['lbl'], axis=1),train_y)\n",
    "pred = clf5.predict(test.drop(['lbl'], axis=1))\n",
    "print(metrics.f1_score(test_y, pred, average='macro'))\n",
    "metrics.confusion_matrix(test_y, pred)\n"
   ]
  },
  {
   "cell_type": "code",
   "execution_count": 34,
   "metadata": {},
   "outputs": [
    {
     "name": "stdout",
     "output_type": "stream",
     "text": [
      "0.58854767952\n",
      "[[22  6]\n",
      " [21 17]]\n"
     ]
    }
   ],
   "source": [
    "clf6=DecisionTreeClassifier(random_state=19)\n",
    "clf6.fit(train.drop(['lbl'], axis=1),train_y)\n",
    "pred = clf6.predict(test.drop(['lbl'], axis=1))\n",
    "print(metrics.f1_score(test_y, pred, average='macro'))\n",
    "print(metrics.confusion_matrix(test_y, pred))\n"
   ]
  },
  {
   "cell_type": "code",
   "execution_count": null,
   "metadata": {
    "collapsed": true
   },
   "outputs": [],
   "source": []
  }
 ],
 "metadata": {
  "kernelspec": {
   "display_name": "Python 3",
   "language": "python",
   "name": "python3"
  },
  "language_info": {
   "codemirror_mode": {
    "name": "ipython",
    "version": 3
   },
   "file_extension": ".py",
   "mimetype": "text/x-python",
   "name": "python",
   "nbconvert_exporter": "python",
   "pygments_lexer": "ipython3",
   "version": "3.6.3"
  }
 },
 "nbformat": 4,
 "nbformat_minor": 2
}
