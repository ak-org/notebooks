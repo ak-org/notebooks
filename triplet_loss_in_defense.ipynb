{
  "nbformat": 4,
  "nbformat_minor": 0,
  "metadata": {
    "colab": {
      "name": "triplet-loss-in-defense.ipynb",
      "version": "0.3.2",
      "provenance": [],
      "collapsed_sections": [],
      "include_colab_link": true
    },
    "kernelspec": {
      "name": "python3",
      "display_name": "Python 3"
    },
    "accelerator": "GPU"
  },
  "cells": [
    {
      "cell_type": "markdown",
      "metadata": {
        "id": "view-in-github",
        "colab_type": "text"
      },
      "source": [
        "<a href=\"https://colab.research.google.com/github/ak-org/notebooks/blob/master/triplet_loss_in_defense.ipynb\" target=\"_parent\"><img src=\"https://colab.research.google.com/assets/colab-badge.svg\" alt=\"Open In Colab\"/></a>"
      ]
    },
    {
      "cell_type": "code",
      "metadata": {
        "id": "G-ZFXK9EMlaK",
        "colab_type": "code",
        "colab": {
          "base_uri": "https://localhost:8080/",
          "height": 545
        },
        "outputId": "dfd294d8-c713-4a4b-fc68-2e7f62177803"
      },
      "source": [
        "!pip install tensorflow-gpu==2.0.0-rc1"
      ],
      "execution_count": 1,
      "outputs": [
        {
          "output_type": "stream",
          "text": [
            "Collecting tensorflow-gpu==2.0.0-rc1\n",
            "\u001b[?25l  Downloading https://files.pythonhosted.org/packages/73/cf/2fc69ba3e59edc8333e2676fa71b40197718dea7dc1282c79955cf6b2acb/tensorflow_gpu-2.0.0rc1-cp36-cp36m-manylinux2010_x86_64.whl (380.5MB)\n",
            "\u001b[K     |████████████████████████████████| 380.5MB 65kB/s \n",
            "\u001b[?25hRequirement already satisfied: google-pasta>=0.1.6 in /usr/local/lib/python3.6/dist-packages (from tensorflow-gpu==2.0.0-rc1) (0.1.7)\n",
            "Requirement already satisfied: keras-applications>=1.0.8 in /usr/local/lib/python3.6/dist-packages (from tensorflow-gpu==2.0.0-rc1) (1.0.8)\n",
            "Collecting tf-estimator-nightly<1.14.0.dev2019080602,>=1.14.0.dev2019080601 (from tensorflow-gpu==2.0.0-rc1)\n",
            "\u001b[?25l  Downloading https://files.pythonhosted.org/packages/21/28/f2a27a62943d5f041e4a6fd404b2d21cb7c59b2242a4e73b03d9ba166552/tf_estimator_nightly-1.14.0.dev2019080601-py2.py3-none-any.whl (501kB)\n",
            "\u001b[K     |████████████████████████████████| 501kB 54.6MB/s \n",
            "\u001b[?25hRequirement already satisfied: wheel>=0.26 in /usr/local/lib/python3.6/dist-packages (from tensorflow-gpu==2.0.0-rc1) (0.33.6)\n",
            "Requirement already satisfied: absl-py>=0.7.0 in /usr/local/lib/python3.6/dist-packages (from tensorflow-gpu==2.0.0-rc1) (0.8.0)\n",
            "Requirement already satisfied: opt-einsum>=2.3.2 in /usr/local/lib/python3.6/dist-packages (from tensorflow-gpu==2.0.0-rc1) (3.0.1)\n",
            "Requirement already satisfied: keras-preprocessing>=1.0.5 in /usr/local/lib/python3.6/dist-packages (from tensorflow-gpu==2.0.0-rc1) (1.1.0)\n",
            "Collecting tb-nightly<1.15.0a20190807,>=1.15.0a20190806 (from tensorflow-gpu==2.0.0-rc1)\n",
            "\u001b[?25l  Downloading https://files.pythonhosted.org/packages/bc/88/24b5fb7280e74c7cf65bde47c171547fd02afb3840cff41bcbe9270650f5/tb_nightly-1.15.0a20190806-py3-none-any.whl (4.3MB)\n",
            "\u001b[K     |████████████████████████████████| 4.3MB 49.8MB/s \n",
            "\u001b[?25hRequirement already satisfied: grpcio>=1.8.6 in /usr/local/lib/python3.6/dist-packages (from tensorflow-gpu==2.0.0-rc1) (1.15.0)\n",
            "Requirement already satisfied: six>=1.10.0 in /usr/local/lib/python3.6/dist-packages (from tensorflow-gpu==2.0.0-rc1) (1.12.0)\n",
            "Requirement already satisfied: protobuf>=3.6.1 in /usr/local/lib/python3.6/dist-packages (from tensorflow-gpu==2.0.0-rc1) (3.7.1)\n",
            "Requirement already satisfied: termcolor>=1.1.0 in /usr/local/lib/python3.6/dist-packages (from tensorflow-gpu==2.0.0-rc1) (1.1.0)\n",
            "Requirement already satisfied: gast>=0.2.0 in /usr/local/lib/python3.6/dist-packages (from tensorflow-gpu==2.0.0-rc1) (0.2.2)\n",
            "Requirement already satisfied: numpy<2.0,>=1.16.0 in /usr/local/lib/python3.6/dist-packages (from tensorflow-gpu==2.0.0-rc1) (1.16.5)\n",
            "Requirement already satisfied: astor>=0.6.0 in /usr/local/lib/python3.6/dist-packages (from tensorflow-gpu==2.0.0-rc1) (0.8.0)\n",
            "Requirement already satisfied: wrapt>=1.11.1 in /usr/local/lib/python3.6/dist-packages (from tensorflow-gpu==2.0.0-rc1) (1.11.2)\n",
            "Requirement already satisfied: h5py in /usr/local/lib/python3.6/dist-packages (from keras-applications>=1.0.8->tensorflow-gpu==2.0.0-rc1) (2.8.0)\n",
            "Requirement already satisfied: werkzeug>=0.11.15 in /usr/local/lib/python3.6/dist-packages (from tb-nightly<1.15.0a20190807,>=1.15.0a20190806->tensorflow-gpu==2.0.0-rc1) (0.15.6)\n",
            "Requirement already satisfied: setuptools>=41.0.0 in /usr/local/lib/python3.6/dist-packages (from tb-nightly<1.15.0a20190807,>=1.15.0a20190806->tensorflow-gpu==2.0.0-rc1) (41.2.0)\n",
            "Requirement already satisfied: markdown>=2.6.8 in /usr/local/lib/python3.6/dist-packages (from tb-nightly<1.15.0a20190807,>=1.15.0a20190806->tensorflow-gpu==2.0.0-rc1) (3.1.1)\n",
            "Installing collected packages: tf-estimator-nightly, tb-nightly, tensorflow-gpu\n",
            "Successfully installed tb-nightly-1.15.0a20190806 tensorflow-gpu-2.0.0rc1 tf-estimator-nightly-1.14.0.dev2019080601\n"
          ],
          "name": "stdout"
        }
      ]
    },
    {
      "cell_type": "code",
      "metadata": {
        "id": "vTlq__uhMUNR",
        "colab_type": "code",
        "colab": {
          "base_uri": "https://localhost:8080/",
          "height": 52
        },
        "outputId": "21be9655-71b3-4ecb-dfeb-c0f648718247"
      },
      "source": [
        "import tensorflow as tf \n",
        "from tensorflow import keras\n",
        "import math\n",
        "import sklearn\n",
        "import random\n",
        "\n",
        "print(tf.__version__)\n",
        "print(keras.__version__)"
      ],
      "execution_count": 215,
      "outputs": [
        {
          "output_type": "stream",
          "text": [
            "2.0.0-rc1\n",
            "2.2.4-tf\n"
          ],
          "name": "stdout"
        }
      ]
    },
    {
      "cell_type": "code",
      "metadata": {
        "id": "KXmuYT-wNPNX",
        "colab_type": "code",
        "colab": {}
      },
      "source": [
        "## dataset\n",
        "from tensorflow.keras.datasets import mnist, fashion_mnist, cifar10\n",
        "\n",
        "## for Model definition/training\n",
        "from tensorflow.keras.models import Model, load_model\n",
        "from tensorflow.keras.layers import Conv2D, MaxPooling2D, Dense, concatenate,  Dropout\n",
        "from tensorflow.keras.layers import Input, Flatten, Dense, concatenate, BatchNormalization\n",
        "from tensorflow.keras.optimizers import Adam\n",
        "from tensorflow.keras.callbacks import ModelCheckpoint, LearningRateScheduler\n",
        "from tensorflow.keras import regularizers\n",
        "\n",
        "## required for semi-hard triplet loss:\n",
        "from tensorflow.python.ops import array_ops\n",
        "from tensorflow.python.ops import math_ops\n",
        "from tensorflow.python.framework import dtypes\n",
        "\n",
        "\n",
        "## for visualizing \n",
        "import matplotlib.pyplot as plt, numpy as np\n",
        "from sklearn.decomposition import PCA\n",
        "from sklearn.manifold import TSNE"
      ],
      "execution_count": 0,
      "outputs": []
    },
    {
      "cell_type": "code",
      "metadata": {
        "id": "6y9Fs6qeNFhf",
        "colab_type": "code",
        "colab": {}
      },
      "source": [
        "def pairwise_distance(feature, squared=False):\n",
        "    \"\"\"Computes the pairwise distance matrix with numerical stability.\n",
        "\n",
        "    output[i, j] = || feature[i, :] - feature[j, :] ||_2\n",
        "\n",
        "    Args:\n",
        "      feature: 2-D Tensor of size [number of data, feature dimension].\n",
        "      squared: Boolean, whether or not to square the pairwise distances.\n",
        "\n",
        "    Returns:\n",
        "      pairwise_distances: 2-D Tensor of size [number of data, number of data].\n",
        "    \"\"\"\n",
        "    pairwise_distances_squared = math_ops.add(\n",
        "        math_ops.reduce_sum(math_ops.square(feature), axis=[1], keepdims=True),\n",
        "        math_ops.reduce_sum(\n",
        "            math_ops.square(array_ops.transpose(feature)),\n",
        "            axis=[0],\n",
        "            keepdims=True)) - 2.0 * math_ops.matmul(feature,\n",
        "                                                    array_ops.transpose(feature))\n",
        "\n",
        "    # Deal with numerical inaccuracies. Set small negatives to zero.\n",
        "    pairwise_distances_squared = math_ops.maximum(pairwise_distances_squared, 0.0)\n",
        "    # Get the mask where the zero distances are at.\n",
        "    error_mask = math_ops.less_equal(pairwise_distances_squared, 0.0)\n",
        "\n",
        "    # Optionally take the sqrt.\n",
        "    if squared:\n",
        "        pairwise_distances = pairwise_distances_squared\n",
        "    else:\n",
        "        pairwise_distances = math_ops.sqrt(\n",
        "            pairwise_distances_squared + math_ops.to_float(error_mask) * 1e-16)\n",
        "\n",
        "    # Undo conditionally adding 1e-16.\n",
        "    pairwise_distances = math_ops.multiply(\n",
        "        pairwise_distances, math_ops.to_float(math_ops.logical_not(error_mask)))\n",
        "\n",
        "    num_data = array_ops.shape(feature)[0]\n",
        "    # Explicitly set diagonals to zero.\n",
        "    mask_offdiagonals = array_ops.ones_like(pairwise_distances) - array_ops.diag(\n",
        "        array_ops.ones([num_data]))\n",
        "    pairwise_distances = math_ops.multiply(pairwise_distances, mask_offdiagonals)\n",
        "    return pairwise_distances"
      ],
      "execution_count": 0,
      "outputs": []
    },
    {
      "cell_type": "code",
      "metadata": {
        "id": "AI13HibhM2Zs",
        "colab_type": "code",
        "colab": {}
      },
      "source": [
        "def masked_maximum(data, mask, dim=1):\n",
        "    \"\"\"Computes the axis wise maximum over chosen elements.\n",
        "\n",
        "    Args:\n",
        "      data: 2-D float `Tensor` of size [n, m].\n",
        "      mask: 2-D Boolean `Tensor` of size [n, m].\n",
        "      dim: The dimension over which to compute the maximum.\n",
        "\n",
        "    Returns:\n",
        "      masked_maximums: N-D `Tensor`.\n",
        "        The maximized dimension is of size 1 after the operation.\n",
        "    \"\"\"\n",
        "    axis_minimums = math_ops.reduce_min(data, dim, keepdims=True)\n",
        "    masked_maximums = math_ops.reduce_max(\n",
        "        math_ops.multiply(data - axis_minimums, mask), dim,\n",
        "        keepdims=True) + axis_minimums\n",
        "    return masked_maximums"
      ],
      "execution_count": 0,
      "outputs": []
    },
    {
      "cell_type": "code",
      "metadata": {
        "id": "eszgoDh7NonO",
        "colab_type": "code",
        "colab": {}
      },
      "source": [
        "def masked_minimum(data, mask, dim=1):\n",
        "    \"\"\"Computes the axis wise minimum over chosen elements.\n",
        "\n",
        "    Args:\n",
        "      data: 2-D float `Tensor` of size [n, m].\n",
        "      mask: 2-D Boolean `Tensor` of size [n, m].\n",
        "      dim: The dimension over which to compute the minimum.\n",
        "\n",
        "    Returns:\n",
        "      masked_minimums: N-D `Tensor`.\n",
        "        The minimized dimension is of size 1 after the operation.\n",
        "    \"\"\"\n",
        "    axis_maximums = math_ops.reduce_max(data, dim, keepdims=True)\n",
        "    masked_minimums = math_ops.reduce_min(\n",
        "        math_ops.multiply(data - axis_maximums, mask), dim,\n",
        "        keepdims=True) + axis_maximums\n",
        "    return masked_minimums"
      ],
      "execution_count": 0,
      "outputs": []
    },
    {
      "cell_type": "code",
      "metadata": {
        "id": "U-aWEQGGNsNH",
        "colab_type": "code",
        "colab": {}
      },
      "source": [
        "def triplet_loss_adapted_from_tf(y_true, y_pred):\n",
        "    del y_true\n",
        "    margin = 1.\n",
        "    labels = y_pred[:, :1]\n",
        "\n",
        " \n",
        "    labels = tf.cast(labels, dtype='int32')\n",
        "\n",
        "    embeddings = y_pred[:, 1:]\n",
        "\n",
        "    ### Code from Tensorflow function [tf.contrib.losses.metric_learning.triplet_semihard_loss] starts here:\n",
        "    \n",
        "    # Reshape [batch_size] label tensor to a [batch_size, 1] label tensor.\n",
        "    # lshape=array_ops.shape(labels)\n",
        "    # assert lshape.shape == 1\n",
        "    # labels = array_ops.reshape(labels, [lshape[0], 1])\n",
        "\n",
        "    # Build pairwise squared distance matrix.\n",
        "    pdist_matrix = pairwise_distance(embeddings, squared=True)\n",
        "    # Build pairwise binary adjacency matrix.\n",
        "    adjacency = math_ops.equal(labels, array_ops.transpose(labels))\n",
        "    # Invert so we can select negatives only.\n",
        "    adjacency_not = math_ops.logical_not(adjacency)\n",
        "\n",
        "    # global batch_size  \n",
        "    batch_size = array_ops.size(labels) # was 'array_ops.size(labels)'\n",
        "\n",
        "    # Compute the mask.\n",
        "    pdist_matrix_tile = array_ops.tile(pdist_matrix, [batch_size, 1])\n",
        "    mask = math_ops.logical_and(\n",
        "        array_ops.tile(adjacency_not, [batch_size, 1]),\n",
        "        math_ops.greater(\n",
        "            pdist_matrix_tile, array_ops.reshape(\n",
        "                array_ops.transpose(pdist_matrix), [-1, 1])))\n",
        "    mask_final = array_ops.reshape(\n",
        "        math_ops.greater(\n",
        "            math_ops.reduce_sum(\n",
        "                math_ops.cast(mask, dtype=dtypes.float32), 1, keepdims=True),\n",
        "            0.0), [batch_size, batch_size])\n",
        "    mask_final = array_ops.transpose(mask_final)\n",
        "\n",
        "    adjacency_not = math_ops.cast(adjacency_not, dtype=dtypes.float32)\n",
        "    mask = math_ops.cast(mask, dtype=dtypes.float32)\n",
        "\n",
        "    # negatives_outside: smallest D_an where D_an > D_ap.\n",
        "    negatives_outside = array_ops.reshape(\n",
        "        masked_minimum(pdist_matrix_tile, mask), [batch_size, batch_size])\n",
        "    negatives_outside = array_ops.transpose(negatives_outside)\n",
        "\n",
        "    # negatives_inside: largest D_an.\n",
        "    negatives_inside = array_ops.tile(\n",
        "        masked_maximum(pdist_matrix, adjacency_not), [1, batch_size])\n",
        "    semi_hard_negatives = array_ops.where(\n",
        "        mask_final, negatives_outside, negatives_inside)\n",
        "\n",
        "    loss_mat = math_ops.add(margin, pdist_matrix - semi_hard_negatives)\n",
        "\n",
        "    mask_positives = math_ops.cast(\n",
        "        adjacency, dtype=dtypes.float32) - array_ops.diag(\n",
        "        array_ops.ones([batch_size]))\n",
        "\n",
        "    # In lifted-struct, the authors multiply 0.5 for upper triangular\n",
        "    #   in semihard, they take all positive pairs except the diagonal.\n",
        "    num_positives = math_ops.reduce_sum(mask_positives)\n",
        "\n",
        "    semi_hard_triplet_loss_distance = math_ops.truediv(\n",
        "        math_ops.reduce_sum(\n",
        "            math_ops.maximum(\n",
        "                math_ops.multiply(loss_mat, mask_positives), 0.0)),\n",
        "        num_positives,\n",
        "        name='triplet_semihard_loss')\n",
        "    \n",
        "    ### Code from Tensorflow function semi-hard triplet loss ENDS here.\n",
        "    return semi_hard_triplet_loss_distance"
      ],
      "execution_count": 0,
      "outputs": []
    },
    {
      "cell_type": "code",
      "metadata": {
        "id": "HWk2LacUN4Zg",
        "colab_type": "code",
        "colab": {}
      },
      "source": [
        "cifar10_labels = ['Airplanes', 'Automobiles', 'Birds', 'Cats', 'Deers', 'Dogs', 'Frogs', 'Horse', 'Ship', 'Truck']\n",
        "\n",
        "# The data, split between train and test sets\n",
        "(x_train, y_train), (x_test, y_test) = cifar10.load_data()\n",
        "x_train = x_train.astype('float32')\n",
        "x_test = x_test.astype('float32')\n",
        "#z-score\n",
        "mean = np.mean(x_train,axis=(0,1,2,3))\n",
        "std = np.std(x_train,axis=(0,1,2,3))\n",
        "x_train = (x_train-mean)/(std+1e-7)\n",
        "x_test = (x_test-mean)/(std+1e-7)\n",
        "input_image_shape = (32, 32, 3)\n",
        "x_val = x_test[:5000, :, :]\n",
        "y_val = y_test[:5000]"
      ],
      "execution_count": 0,
      "outputs": []
    },
    {
      "cell_type": "code",
      "metadata": {
        "id": "SmSwPac1NC42",
        "colab_type": "code",
        "colab": {}
      },
      "source": [
        "def create_base_network(image_input_shape = (32, 32, 3), embedding_size = 64):\n",
        "    \"\"\"\n",
        "    Base network to be shared (eq. to feature extraction).\n",
        "    \"\"\"\n",
        "    input_image = Input(shape=image_input_shape)\n",
        "    weight_decay = 1e-4\n",
        "    \n",
        "    x = Conv2D(32, kernel_size=3, kernel_regularizer=regularizers.l2(weight_decay), activation='relu')(input_image)\n",
        "    x = BatchNormalization()(x)\n",
        "    x = Conv2D(32, kernel_size=3, kernel_regularizer=regularizers.l2(weight_decay), activation='relu')(input_image)   \n",
        "    x = BatchNormalization()(x) \n",
        "    x = MaxPooling2D(pool_size=(2, 2))(x)\n",
        "    x = Dropout(0.2)(x)\n",
        "\n",
        "    x = Conv2D(64, kernel_size=3, kernel_regularizer=regularizers.l2(weight_decay), activation='relu')(x)\n",
        "    x = BatchNormalization()(x)\n",
        "    x = Conv2D(64, kernel_size=3, kernel_regularizer=regularizers.l2(weight_decay), activation='relu')(input_image)   \n",
        "    x = BatchNormalization()(x) \n",
        "    x = MaxPooling2D(pool_size=(2, 2))(x)\n",
        "    x = Dropout(0.3)(x)\n",
        "\n",
        "    x = Conv2D(128, kernel_size=3, kernel_regularizer=regularizers.l2(weight_decay), activation='relu')(x)\n",
        "    x = BatchNormalization()(x)\n",
        "    x = Conv2D(128, kernel_size=3, kernel_regularizer=regularizers.l2(weight_decay), activation='relu')(input_image)   \n",
        "    x = BatchNormalization()(x) \n",
        "    x = MaxPooling2D(pool_size=(2, 2))(x)\n",
        "    x = Dropout(0.3)(x)\n",
        "\n",
        "    x = Flatten()(x)\n",
        "    '''\n",
        "    x = Dense(256, activation='relu')(x)\n",
        "    x = Dropout(0.1)(x)\n",
        "    '''\n",
        "    x = Dense(128, activation='relu')(x)\n",
        "    x = Dropout(0.1)(x)\n",
        "    x = Dense(embedding_size)(x)\n",
        "    base_network = Model(inputs=input_image, outputs=x)\n",
        "    return base_network"
      ],
      "execution_count": 0,
      "outputs": []
    },
    {
      "cell_type": "code",
      "metadata": {
        "id": "SvOmq3NVcDQI",
        "colab_type": "code",
        "colab": {
          "base_uri": "https://localhost:8080/",
          "height": 34
        },
        "outputId": "fd4ee0c4-734f-4d9a-a4ed-92b2c6c6ea78"
      },
      "source": [
        "create_base_network()"
      ],
      "execution_count": 79,
      "outputs": [
        {
          "output_type": "execute_result",
          "data": {
            "text/plain": [
              "<tensorflow.python.keras.engine.training.Model at 0x7f59b63525c0>"
            ]
          },
          "metadata": {
            "tags": []
          },
          "execution_count": 79
        }
      ]
    },
    {
      "cell_type": "code",
      "metadata": {
        "id": "0aZ3CyQ1Wd2K",
        "colab_type": "code",
        "colab": {}
      },
      "source": [
        "def step_decay(epoch):\n",
        "   initial_lrate = 0.001\n",
        "   drop = 0.1\n",
        "   epochs_drop = 10\n",
        "   lrate = initial_lrate * math.pow(drop,  \n",
        "           math.floor((1+epoch)/epochs_drop))\n",
        "   return lrate\n"
      ],
      "execution_count": 0,
      "outputs": []
    },
    {
      "cell_type": "code",
      "metadata": {
        "id": "tvjFKyJCORMz",
        "colab_type": "code",
        "colab": {
          "base_uri": "https://localhost:8080/",
          "height": 1000
        },
        "outputId": "e6724fda-5047-45b3-9500-356c949621ce"
      },
      "source": [
        " if train_flag == True:\n",
        "        batch_size = 64\n",
        "        epochs = 25\n",
        "        train_flag = True  # either     True or False\n",
        "        embedding_size = 64\n",
        "        no_of_components = 2  # for visualization -> PCA.fit_transform()\n",
        "        step = 10\n",
        "        lr = 0.001\n",
        "        base_network = create_base_network()\n",
        "\n",
        "        input_images = Input(shape=input_image_shape, name='input_image') # input layer for images\n",
        "        input_labels = Input(shape=(1,), name='input_label')    # input layer for labels\n",
        "        embeddings = base_network([input_images])               # output of network -> embeddings\n",
        "        labels_plus_embeddings = concatenate([input_labels, embeddings])  # concatenating the labels + embeddings\n",
        "\n",
        "        # Defining a model with inputs (images, labels) and outputs (labels_plus_embeddings)\n",
        "        model = Model(inputs=[input_images, input_labels],\n",
        "                      outputs=labels_plus_embeddings)\n",
        "\n",
        "        model.summary()\n",
        "\n",
        "        # train session\n",
        "        opt = Adam(lr=lr, epsilon = 1e-7)  # choose optimiser. RMS is good too!\n",
        "\n",
        "        model.compile(loss=triplet_loss_adapted_from_tf,\n",
        "                      optimizer=opt)\n",
        "\n",
        "        filepath = \"semiH_trip_CIFAR_v13_ep{epoch:02d}_BS%d.hdf5\" % batch_size\n",
        "        checkpoint = ModelCheckpoint(filepath, monitor='val_loss', verbose=1, save_best_only=False, period=25)\n",
        "        lrate = LearningRateScheduler(step_decay)\n",
        "        callbacks_list = [checkpoint, lrate]\n",
        "\n",
        "        # Uses 'dummy' embeddings + dummy gt labels. Will be removed as soon as loaded, to free memory\n",
        "        dummy_gt_train = np.zeros((len(x_train), embedding_size + 1))\n",
        "        dummy_gt_val = np.zeros((len(x_val), embedding_size + 1))\n",
        "\n",
        "        x_train = np.reshape(x_train, (len(x_train), x_train.shape[1], x_train.shape[2],  x_train.shape[3]))\n",
        "        x_val = np.reshape(x_val, (len(x_val), x_train.shape[1], x_train.shape[2], x_train.shape[3]))\n",
        "\n",
        "        H = model.fit(\n",
        "            x=[x_train,y_train],\n",
        "            y=dummy_gt_train,\n",
        "            batch_size=batch_size,\n",
        "            epochs=epochs,\n",
        "            validation_data=([x_val, y_val], dummy_gt_val),\n",
        "            callbacks=callbacks_list)\n",
        "        plt.figure(figsize=(8,8))\n",
        "        plt.plot(H.history['loss'], label='training loss')\n",
        "        plt.plot(H.history['val_loss'], label='validation loss')\n",
        "        plt.legend()\n",
        "        plt.title('Train/validation loss')\n",
        "        plt.show()\n",
        "else:\n",
        "        model = load_model('semiH_trip_CIFAR_v13_ep25_BS256.hdf5',\n",
        "                            custom_objects={'triplet_loss_adapted_from_tf':triplet_loss_adapted_from_tf})"
      ],
      "execution_count": 277,
      "outputs": [
        {
          "output_type": "stream",
          "text": [
            "Model: \"model_70\"\n",
            "__________________________________________________________________________________________________\n",
            "Layer (type)                    Output Shape         Param #     Connected to                     \n",
            "==================================================================================================\n",
            "input_image (InputLayer)        [(None, 32, 32, 3)]  0                                            \n",
            "__________________________________________________________________________________________________\n",
            "input_label (InputLayer)        [(None, 1)]          0                                            \n",
            "__________________________________________________________________________________________________\n",
            "model_69 (Model)                (None, 64)           3698880     input_image[0][0]                \n",
            "__________________________________________________________________________________________________\n",
            "concatenate_27 (Concatenate)    (None, 65)           0           input_label[0][0]                \n",
            "                                                                 model_69[1][0]                   \n",
            "==================================================================================================\n",
            "Total params: 3,698,880\n",
            "Trainable params: 3,698,624\n",
            "Non-trainable params: 256\n",
            "__________________________________________________________________________________________________\n",
            "WARNING:tensorflow:`period` argument is deprecated. Please use `save_freq` to specify the frequency in number of samples seen.\n",
            "Train on 50000 samples, validate on 5000 samples\n",
            "Epoch 1/25\n",
            "50000/50000 [==============================] - 9s 178us/sample - loss: 82.8554 - val_loss: 19.8171\n",
            "Epoch 2/25\n",
            "50000/50000 [==============================] - 8s 158us/sample - loss: 13.7466 - val_loss: 4.0370\n",
            "Epoch 3/25\n",
            "50000/50000 [==============================] - 8s 165us/sample - loss: 4.3722 - val_loss: 0.9346\n",
            "Epoch 4/25\n",
            "50000/50000 [==============================] - 8s 160us/sample - loss: 1.1303 - val_loss: 0.4026\n",
            "Epoch 5/25\n",
            "50000/50000 [==============================] - 8s 158us/sample - loss: 0.5761 - val_loss: 0.2235\n",
            "Epoch 6/25\n",
            "50000/50000 [==============================] - 8s 158us/sample - loss: 0.3990 - val_loss: 0.3092\n",
            "Epoch 7/25\n",
            "50000/50000 [==============================] - 8s 158us/sample - loss: 0.4241 - val_loss: 0.2193\n",
            "Epoch 8/25\n",
            "50000/50000 [==============================] - 8s 157us/sample - loss: 2.7346 - val_loss: 0.2618\n",
            "Epoch 9/25\n",
            "50000/50000 [==============================] - 8s 158us/sample - loss: 0.3520 - val_loss: 0.2237\n",
            "Epoch 10/25\n",
            "50000/50000 [==============================] - 8s 158us/sample - loss: 0.3131 - val_loss: 0.2130\n",
            "Epoch 11/25\n",
            "50000/50000 [==============================] - 8s 157us/sample - loss: 0.3153 - val_loss: 0.2017\n",
            "Epoch 12/25\n",
            "50000/50000 [==============================] - 8s 157us/sample - loss: 0.3479 - val_loss: 0.2131\n",
            "Epoch 13/25\n",
            "50000/50000 [==============================] - 8s 158us/sample - loss: 0.2517 - val_loss: 0.1662\n",
            "Epoch 14/25\n",
            "50000/50000 [==============================] - 8s 158us/sample - loss: 0.2245 - val_loss: 0.1778\n",
            "Epoch 15/25\n",
            "50000/50000 [==============================] - 8s 159us/sample - loss: 0.2425 - val_loss: 0.1801\n",
            "Epoch 16/25\n",
            "50000/50000 [==============================] - 8s 158us/sample - loss: 0.2114 - val_loss: 0.1712\n",
            "Epoch 17/25\n",
            "50000/50000 [==============================] - 8s 157us/sample - loss: 0.2105 - val_loss: 0.1837\n",
            "Epoch 18/25\n",
            "50000/50000 [==============================] - 8s 158us/sample - loss: 0.2173 - val_loss: 0.1744\n",
            "Epoch 19/25\n",
            "50000/50000 [==============================] - 8s 157us/sample - loss: 0.2029 - val_loss: 0.1629\n",
            "Epoch 20/25\n",
            "50000/50000 [==============================] - 8s 158us/sample - loss: 0.2223 - val_loss: 0.1737\n",
            "Epoch 21/25\n",
            "50000/50000 [==============================] - 8s 158us/sample - loss: 0.2109 - val_loss: 0.1658\n",
            "Epoch 22/25\n",
            "50000/50000 [==============================] - 8s 157us/sample - loss: 0.2221 - val_loss: 0.1647\n",
            "Epoch 23/25\n",
            "50000/50000 [==============================] - 8s 158us/sample - loss: 0.2166 - val_loss: 0.1778\n",
            "Epoch 24/25\n",
            "50000/50000 [==============================] - 8s 158us/sample - loss: 0.2311 - val_loss: 0.1681\n",
            "Epoch 25/25\n",
            "49856/50000 [============================>.] - ETA: 0s - loss: 0.2010\n",
            "Epoch 00025: saving model to semiH_trip_CIFAR_v13_ep25_BS64.hdf5\n",
            "50000/50000 [==============================] - 8s 160us/sample - loss: 0.2008 - val_loss: 0.1651\n"
          ],
          "name": "stdout"
        },
        {
          "output_type": "display_data",
          "data": {
            "image/png": "[encoded data removed]",
            "text/plain": [
              "<Figure size 576x576 with 1 Axes>"
            ]
          },
          "metadata": {
            "tags": []
          }
        }
      ]
    },
    {
      "cell_type": "code",
      "metadata": {
        "id": "gFMEnFALmogZ",
        "colab_type": "code",
        "colab": {}
      },
      "source": [
        ""
      ],
      "execution_count": 0,
      "outputs": []
    },
    {
      "cell_type": "code",
      "metadata": {
        "id": "Ira76cxpR9Ru",
        "colab_type": "code",
        "colab": {}
      },
      "source": [
        "# creating an empty network\n",
        "testing_embeddings = create_base_network(input_image_shape,\n",
        "                                          embedding_size=embedding_size)\n",
        "x_embeddings_before_train = testing_embeddings.predict(np.reshape(x_test, (len(x_test), 32, 32, 3)))\n",
        "# Grabbing the weights from the trained network\n",
        "for layer_target, layer_source in zip(testing_embeddings.layers, model.layers[2].layers):\n",
        "    weights = layer_source.get_weights()\n",
        "    layer_target.set_weights(weights)\n",
        "    del weights"
      ],
      "execution_count": 0,
      "outputs": []
    },
    {
      "cell_type": "code",
      "metadata": {
        "id": "EFlNJ-ajSELg",
        "colab_type": "code",
        "colab": {
          "base_uri": "https://localhost:8080/",
          "height": 34
        },
        "outputId": "bc7ee853-7d2f-4e0f-f07d-241c18c2225d"
      },
      "source": [
        "\n",
        "# Visualizing the effect of embeddings -> using PCA!\n",
        "\n",
        "x_embeddings = testing_embeddings.predict(np.reshape(x_test, (len(x_test), 32, 32, 3)))\n",
        "dict_embeddings = {}\n",
        "dict_gray = {}\n",
        "test_class_labels = np.unique(np.array(y_test))\n",
        "print(x_embeddings.shape, test_class_labels.shape)\n",
        "\n"
      ],
      "execution_count": 283,
      "outputs": [
        {
          "output_type": "stream",
          "text": [
            "(10000, 64) (10,)\n"
          ],
          "name": "stdout"
        }
      ]
    },
    {
      "cell_type": "code",
      "metadata": {
        "id": "hDciXenWjgOk",
        "colab_type": "code",
        "colab": {
          "base_uri": "https://localhost:8080/",
          "height": 771
        },
        "outputId": "4d4f0978-7f9a-4182-ba29-cb0d85027bdf"
      },
      "source": [
        "\n",
        "dist = sklearn.metrics.pairwise_distances(x_embeddings)\n",
        "print(\"Random Test\")\n",
        "r = random.randint(0, 10001) \n",
        "plt.figure(figsize = (2,2))\n",
        "plt.imshow(x_test[r])\n",
        "print(\"Refernce image is : \" + cifar10_labels[y_test[r][0]])\n",
        "idx = np.argpartition(dist[r], 5)\n",
        "print(dist[r][idx[:5]])\n",
        "\n",
        "print(\"Nearest images are  : \" + cifar10_labels[y_test[idx[i]][0]]) \n",
        "for i in range(5):\n",
        "  print(cifar10_labels[y_test[idx[i]][0]]) \n",
        "\n",
        "\n",
        "plt.figure(figsize = (10, 2))\n",
        "for i in range(5):\n",
        "  plt.subplot(1,5,i+1)\n",
        "  plt.imshow(x_test[idx[i]])\n",
        "  plt.xticks([])\n",
        "  plt.yticks([])\n",
        "  plt.tight_layout()\n",
        "plt.suptitle('Closest 5 images', fontsize = 12)\n",
        "plt.show()\n",
        "\n",
        "\n",
        "farthest_idx = np.argmax(dist[r])\n",
        "print(\"Farthest image distance is {}\".format(dist[r][farthest_idx]))\n",
        "print(\"Labels are {}, {}\". format(cifar10_labels[y_test[r][0]], cifar10_labels[y_test[farthest_idx][0]]))\n",
        "far_idx = [r, farthest_idx]\n",
        "plt.figure(figsize = (8, 2))\n",
        "for i in range(2):\n",
        "  plt.subplot(1,5,i+1)\n",
        "  plt.imshow(x_test[far_idx[i]])\n",
        "  plt.xticks([])\n",
        "  plt.yticks([])\n",
        "  plt.tight_layout()\n",
        "plt.suptitle('Farthest image', fontsize = 12)\n",
        "plt.show()"
      ],
      "execution_count": 291,
      "outputs": [
        {
          "output_type": "stream",
          "text": [
            "Clipping input data to the valid range for imshow with RGB data ([0..1] for floats or [0..255] for integers).\n",
            "Clipping input data to the valid range for imshow with RGB data ([0..1] for floats or [0..255] for integers).\n",
            "Clipping input data to the valid range for imshow with RGB data ([0..1] for floats or [0..255] for integers).\n",
            "Clipping input data to the valid range for imshow with RGB data ([0..1] for floats or [0..255] for integers).\n",
            "Clipping input data to the valid range for imshow with RGB data ([0..1] for floats or [0..255] for integers).\n",
            "Clipping input data to the valid range for imshow with RGB data ([0..1] for floats or [0..255] for integers).\n"
          ],
          "name": "stderr"
        },
        {
          "output_type": "stream",
          "text": [
            "Random Test\n",
            "Refernce image is : Frogs\n",
            "[0.23336409 0.         0.2285092  0.2980864  0.3480316 ]\n",
            "Nearest images are  : Frogs\n",
            "Frogs\n",
            "Frogs\n",
            "Frogs\n",
            "Frogs\n",
            "Frogs\n"
          ],
          "name": "stdout"
        },
        {
          "output_type": "display_data",
          "data": {
            "image/png": "[encoded data removed]",
            "text/plain": [
              "<Figure size 144x144 with 1 Axes>"
            ]
          },
          "metadata": {
            "tags": []
          }
        },
        {
          "output_type": "display_data",
          "data": {
            "image/png": "[encoded data removed]",
            "text/plain": [
              "<Figure size 720x144 with 5 Axes>"
            ]
          },
          "metadata": {
            "tags": []
          }
        },
        {
          "output_type": "stream",
          "text": [
            "Clipping input data to the valid range for imshow with RGB data ([0..1] for floats or [0..255] for integers).\n",
            "Clipping input data to the valid range for imshow with RGB data ([0..1] for floats or [0..255] for integers).\n"
          ],
          "name": "stderr"
        },
        {
          "output_type": "stream",
          "text": [
            "Farthest image distance is 25.658336639404297\n",
            "Labels are Frogs, Automobiles\n"
          ],
          "name": "stdout"
        },
        {
          "output_type": "display_data",
          "data": {
            "image/png": "[encoded data removed]",
            "text/plain": [
              "<Figure size 576x144 with 2 Axes>"
            ]
          },
          "metadata": {
            "tags": []
          }
        }
      ]
    },
    {
      "cell_type": "code",
      "metadata": {
        "id": "lpJzAlrhjaqD",
        "colab_type": "code",
        "colab": {}
      },
      "source": [
        "'''\n",
        "SIZE = 2000\n",
        "tsne = TSNE(n_components=no_of_components, perplexity = 50)\n",
        "decomposed_embeddings = tsne.fit_transform(x_embeddings[:SIZE])\n",
        "decomposed_gray = tsne.fit_transform(x_embeddings_before_train[:SIZE])\n",
        "'''\n"
      ],
      "execution_count": 0,
      "outputs": []
    },
    {
      "cell_type": "code",
      "metadata": {
        "id": "547NSaTTuwYr",
        "colab_type": "code",
        "colab": {
          "base_uri": "https://localhost:8080/",
          "height": 657
        },
        "outputId": "5ecc1967-4b4c-423e-c43a-7b5b09eb84a8"
      },
      "source": [
        "\n",
        "\n",
        "fig = plt.figure(figsize=(20, 8))\n",
        "for label in test_class_labels:\n",
        "    decomposed_embeddings_class = decomposed_embeddings[y_test[:SIZE,0] == label]\n",
        "    decomposed_gray_class = decomposed_gray[y_test[:SIZE,0] == label]\n",
        "\n",
        "    plt.subplot(1,2,1)\n",
        "    plt.scatter(decomposed_gray_class[::step,1], decomposed_gray_class[::step,0], label=cifar10_labels[label])\n",
        "    plt.title('before training')\n",
        "    # Turn off tick labels\n",
        "    plt.legend()\n",
        "    plt.xticks([])\n",
        "    plt.yticks([])\n",
        "    plt.tight_layout()\n",
        "\n",
        "    plt.subplot(1,2,2)\n",
        "    plt.scatter(decomposed_embeddings_class[::step, 1], decomposed_embeddings_class[::step, 0], label=cifar10_labels[label])\n",
        "    plt.title('@%d epochs' % epochs)\n",
        "    plt.legend()\n",
        "    plt.xticks([])\n",
        "    plt.yticks([])\n",
        "    plt.tight_layout()\n",
        "plt.show()"
      ],
      "execution_count": 177,
      "outputs": [
        {
          "output_type": "stream",
          "text": [
            "/usr/local/lib/python3.6/dist-packages/matplotlib/figure.py:98: MatplotlibDeprecationWarning: \n",
            "Adding an axes using the same arguments as a previous axes currently reuses the earlier instance.  In a future version, a new instance will always be created and returned.  Meanwhile, this warning can be suppressed, and the future behavior ensured, by passing a unique label to each axes instance.\n",
            "  \"Adding an axes using the same arguments as a previous axes \"\n"
          ],
          "name": "stderr"
        },
        {
          "output_type": "display_data",
          "data": {
            "image/png": "[encoded data removed]",
            "text/plain": [
              "<Figure size 1440x576 with 2 Axes>"
            ]
          },
          "metadata": {
            "tags": []
          }
        }
      ]
    },
    {
      "cell_type": "code",
      "metadata": {
        "id": "D3R5-aEn7c3I",
        "colab_type": "code",
        "colab": {}
      },
      "source": [
        ""
      ],
      "execution_count": 0,
      "outputs": []
    }
  ]
}